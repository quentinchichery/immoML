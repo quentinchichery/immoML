{
 "cells": [
  {
   "cell_type": "markdown",
   "metadata": {},
   "source": [
    "Import Librairies"
   ]
  },
  {
   "cell_type": "code",
   "execution_count": 1,
   "metadata": {},
   "outputs": [],
   "source": [
    "import pandas as pd \n",
    "import geopandas as gpd\n",
    "import matplotlib.pyplot as plt \n",
    "import numpy as np\n",
    "from sklearn.linear_model import LinearRegression\n",
    "import os"
   ]
  },
  {
   "cell_type": "markdown",
   "metadata": {},
   "source": [
    "Import Dataset\n",
    "\n",
    "https://www.data.gouv.fr/fr/datasets/demandes-de-valeurs-foncieres/"
   ]
  },
  {
   "cell_type": "code",
   "execution_count": 16,
   "metadata": {},
   "outputs": [
    {
     "name": "stderr",
     "output_type": "stream",
     "text": [
      "C:\\Users\\Quentin\\AppData\\Local\\Temp\\ipykernel_21972\\2068833330.py:3: DtypeWarning: Columns (18,23,24,26,28,31,33,41) have mixed types. Specify dtype option on import or set low_memory=False.\n",
      "  df = pd.concat((pd.read_csv('./input/DVF/'+ f, delimiter='|')) for f in all_files)\n"
     ]
    },
    {
     "data": {
      "text/plain": [
       "['Code service sages',\n",
       " 'Reference document',\n",
       " '1 Articles CGI',\n",
       " '2 Articles CGI',\n",
       " '3 Articles CGI',\n",
       " '4 Articles CGI',\n",
       " '5 Articles CGI',\n",
       " 'No disposition',\n",
       " 'Date mutation',\n",
       " 'Nature mutation',\n",
       " 'Valeur fonciere',\n",
       " 'No voie',\n",
       " 'B/T/Q',\n",
       " 'Type de voie',\n",
       " 'Code voie',\n",
       " 'Voie',\n",
       " 'Code postal',\n",
       " 'Commune',\n",
       " 'Code departement',\n",
       " 'Code commune',\n",
       " 'Prefixe de section',\n",
       " 'Section',\n",
       " 'No plan',\n",
       " 'No Volume',\n",
       " '1er lot',\n",
       " 'Surface Carrez du 1er lot',\n",
       " '2eme lot',\n",
       " 'Surface Carrez du 2eme lot',\n",
       " '3eme lot',\n",
       " 'Surface Carrez du 3eme lot',\n",
       " '4eme lot',\n",
       " 'Surface Carrez du 4eme lot',\n",
       " '5eme lot',\n",
       " 'Surface Carrez du 5eme lot',\n",
       " 'Nombre de lots',\n",
       " 'Code type local',\n",
       " 'Type local',\n",
       " 'Identifiant local',\n",
       " 'Surface reelle bati',\n",
       " 'Nombre pieces principales',\n",
       " 'Nature culture',\n",
       " 'Nature culture speciale',\n",
       " 'Surface terrain']"
      ]
     },
     "execution_count": 16,
     "metadata": {},
     "output_type": "execute_result"
    }
   ],
   "source": [
    "all_files = os.listdir('input/DVF')\n",
    "all_files=['2022.txt']\n",
    "df = pd.concat((pd.read_csv('./input/DVF/'+ f, delimiter='|')) for f in all_files)\n",
    "df.head()\n",
    "list(df)"
   ]
  }
 ],
 "metadata": {
  "kernelspec": {
   "display_name": "Python 3.9.6 ('.venv': venv)",
   "language": "python",
   "name": "python3"
  },
  "language_info": {
   "codemirror_mode": {
    "name": "ipython",
    "version": 3
   },
   "file_extension": ".py",
   "mimetype": "text/x-python",
   "name": "python",
   "nbconvert_exporter": "python",
   "pygments_lexer": "ipython3",
   "version": "3.9.6"
  },
  "orig_nbformat": 4,
  "vscode": {
   "interpreter": {
    "hash": "83b4245dfafcc5e303f42645eeb53934c0023017297da98492a2715e45aa83cf"
   }
  }
 },
 "nbformat": 4,
 "nbformat_minor": 2
}
